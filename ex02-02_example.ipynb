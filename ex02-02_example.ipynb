{
 "cells": [
  {
   "cell_type": "markdown",
   "metadata": {},
   "source": [
    "\n",
    "### Exercise 2.2 Altitude of a Satellite\n",
    "\n",
    "Catherine Ishida\n",
    "\n",
    "Here is the problem:\n",
    "\n",
    "A satellite is to be launched into a circular orbit around the Earth so that it orbits the planet once every T seconds.\n",
    "\n",
    "a) Show that the altitude h above the Earth’s surface that the satellite must have is  \n",
    "\n",
    "$$ h = (\\frac{GMT^2}{4\\pi^2})^{1/3} - R $$\n",
    "\n",
    "where \n",
    "\n",
    "G = 6.67 × 10−11 m3 kg−1 s−2 is Newton’s gravitational constant, \n",
    "\n",
    "M = 5.97 × 1024 kg is the mass of the Earth, and \n",
    "\n",
    "R = 6371 km is its radius.\n",
    "\n",
    "b) Write a program that asks the user to enter the desired value of T and then calculates and\n",
    "prints out the correct altitude in meters.\n",
    "\n",
    "c) Use your program to calculate the altitudes of satellites that orbit the Earth once a day (so-called “geosynchronous” orbit), once every 90 minutes, and once every 45 minutes. What do you conclude from the last of these calculations?\n",
    "\n",
    "d) Technically a geosynchronous satellite is one that orbits the Earth once per sidereal day, which is 23.93 hours, not 24 hours. Why is this? And how much difference will it make to the altitude of the satellite?\n"
   ]
  },
  {
   "cell_type": "markdown",
   "metadata": {},
   "source": [
    "Note: Sometimes I need to run the cell twice to get latex to render properly.\n",
    "\n",
    "Note: Reference for astropy constants [here](http://astropy.readthedocs.io/en/v0.3.2/constants/index.html)"
   ]
  },
  {
   "cell_type": "code",
   "execution_count": 9,
   "metadata": {},
   "outputs": [],
   "source": [
    "# to make things easier, lets try this\n",
    "from astropy.constants import G, M_earth, R_earth\n",
    "from math import pi"
   ]
  },
  {
   "cell_type": "code",
   "execution_count": 10,
   "metadata": {},
   "outputs": [
    {
     "name": "stdout",
     "output_type": "stream",
     "text": [
      "  Name   = Gravitational constant\n",
      "  Value  = 6.67408e-11\n",
      "  Uncertainty  = 3.1e-15\n",
      "  Unit  = m3 / (kg s2)\n",
      "  Reference = CODATA 2014\n",
      "  Name   = Earth mass\n",
      "  Value  = 5.972364730419773e+24\n",
      "  Uncertainty  = 2.7740648395436216e+20\n",
      "  Unit  = kg\n",
      "  Reference = IAU 2015 Resolution B 3 + CODATA 2014\n",
      "  Name   = Nominal Earth equatorial radius\n",
      "  Value  = 6378100.0\n",
      "  Uncertainty  = 0.0\n",
      "  Unit  = m\n",
      "  Reference = IAU 2015 Resolution B 3\n",
      "3.141592653589793\n"
     ]
    }
   ],
   "source": [
    "print(G)\n",
    "print(M_earth)\n",
    "print(R_earth)\n",
    "print(pi)"
   ]
  }
 ],
 "metadata": {
  "kernelspec": {
   "display_name": "Python 3",
   "language": "python",
   "name": "python3"
  },
  "language_info": {
   "codemirror_mode": {
    "name": "ipython",
    "version": 3
   },
   "file_extension": ".py",
   "mimetype": "text/x-python",
   "name": "python",
   "nbconvert_exporter": "python",
   "pygments_lexer": "ipython3",
   "version": "3.6.3"
  }
 },
 "nbformat": 4,
 "nbformat_minor": 2
}
